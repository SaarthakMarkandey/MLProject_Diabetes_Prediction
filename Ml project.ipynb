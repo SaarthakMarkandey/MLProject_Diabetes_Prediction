{
 "cells": [
  {
   "cell_type": "code",
   "execution_count": 1,
   "id": "e16dec5a",
   "metadata": {},
   "outputs": [],
   "source": [
    "import pandas as pd \n",
    "import numpy as np \n",
    "import matplotlib.pyplot as plt \n",
    "import seaborn as sns \n",
    "import warnings \n",
    "from sklearn import metrics \n",
    "from sklearn.metrics import classification_report,confusion_matrix\n",
    "#Ignore warnings \n",
    "warnings.filterwarnings(\"ignore\")\n",
    "# Seaborn visualization set up \n",
    "%matplotlib inline \n",
    "sns.set_style('darkgrid')"
   ]
  },
  {
   "cell_type": "code",
   "execution_count": 2,
   "id": "10266102",
   "metadata": {},
   "outputs": [
    {
     "data": {
      "text/html": [
       "<div>\n",
       "<style scoped>\n",
       "    .dataframe tbody tr th:only-of-type {\n",
       "        vertical-align: middle;\n",
       "    }\n",
       "\n",
       "    .dataframe tbody tr th {\n",
       "        vertical-align: top;\n",
       "    }\n",
       "\n",
       "    .dataframe thead th {\n",
       "        text-align: right;\n",
       "    }\n",
       "</style>\n",
       "<table border=\"1\" class=\"dataframe\">\n",
       "  <thead>\n",
       "    <tr style=\"text-align: right;\">\n",
       "      <th></th>\n",
       "      <th>Pregnancies</th>\n",
       "      <th>Glucose</th>\n",
       "      <th>BloodPressure</th>\n",
       "      <th>SkinThickness</th>\n",
       "      <th>Insulin</th>\n",
       "      <th>BMI</th>\n",
       "      <th>DiabetesPedigreeFunction</th>\n",
       "      <th>Age</th>\n",
       "      <th>Outcome</th>\n",
       "    </tr>\n",
       "  </thead>\n",
       "  <tbody>\n",
       "    <tr>\n",
       "      <th>0</th>\n",
       "      <td>6</td>\n",
       "      <td>148</td>\n",
       "      <td>72</td>\n",
       "      <td>35</td>\n",
       "      <td>0</td>\n",
       "      <td>33.6</td>\n",
       "      <td>0.627</td>\n",
       "      <td>50</td>\n",
       "      <td>1</td>\n",
       "    </tr>\n",
       "    <tr>\n",
       "      <th>1</th>\n",
       "      <td>1</td>\n",
       "      <td>85</td>\n",
       "      <td>66</td>\n",
       "      <td>29</td>\n",
       "      <td>0</td>\n",
       "      <td>26.6</td>\n",
       "      <td>0.351</td>\n",
       "      <td>31</td>\n",
       "      <td>0</td>\n",
       "    </tr>\n",
       "    <tr>\n",
       "      <th>2</th>\n",
       "      <td>8</td>\n",
       "      <td>183</td>\n",
       "      <td>64</td>\n",
       "      <td>0</td>\n",
       "      <td>0</td>\n",
       "      <td>23.3</td>\n",
       "      <td>0.672</td>\n",
       "      <td>32</td>\n",
       "      <td>1</td>\n",
       "    </tr>\n",
       "    <tr>\n",
       "      <th>3</th>\n",
       "      <td>1</td>\n",
       "      <td>89</td>\n",
       "      <td>66</td>\n",
       "      <td>23</td>\n",
       "      <td>94</td>\n",
       "      <td>28.1</td>\n",
       "      <td>0.167</td>\n",
       "      <td>21</td>\n",
       "      <td>0</td>\n",
       "    </tr>\n",
       "    <tr>\n",
       "      <th>4</th>\n",
       "      <td>0</td>\n",
       "      <td>137</td>\n",
       "      <td>40</td>\n",
       "      <td>35</td>\n",
       "      <td>168</td>\n",
       "      <td>43.1</td>\n",
       "      <td>2.288</td>\n",
       "      <td>33</td>\n",
       "      <td>1</td>\n",
       "    </tr>\n",
       "  </tbody>\n",
       "</table>\n",
       "</div>"
      ],
      "text/plain": [
       "   Pregnancies  Glucose  BloodPressure  SkinThickness  Insulin   BMI  \\\n",
       "0            6      148             72             35        0  33.6   \n",
       "1            1       85             66             29        0  26.6   \n",
       "2            8      183             64              0        0  23.3   \n",
       "3            1       89             66             23       94  28.1   \n",
       "4            0      137             40             35      168  43.1   \n",
       "\n",
       "   DiabetesPedigreeFunction  Age  Outcome  \n",
       "0                     0.627   50        1  \n",
       "1                     0.351   31        0  \n",
       "2                     0.672   32        1  \n",
       "3                     0.167   21        0  \n",
       "4                     2.288   33        1  "
      ]
     },
     "execution_count": 2,
     "metadata": {},
     "output_type": "execute_result"
    }
   ],
   "source": [
    "# Reading the dataset \n",
    "data=pd.read_csv(\"diabetes.csv\") \n",
    "data.head()"
   ]
  },
  {
   "cell_type": "code",
   "execution_count": 4,
   "id": "10ec14df",
   "metadata": {},
   "outputs": [
    {
     "data": {
      "text/plain": [
       "(768, 9)"
      ]
     },
     "execution_count": 4,
     "metadata": {},
     "output_type": "execute_result"
    }
   ],
   "source": [
    "data.shape"
   ]
  },
  {
   "cell_type": "code",
   "execution_count": 5,
   "id": "c128f335",
   "metadata": {},
   "outputs": [
    {
     "name": "stdout",
     "output_type": "stream",
     "text": [
      "<class 'pandas.core.frame.DataFrame'>\n",
      "RangeIndex: 768 entries, 0 to 767\n",
      "Data columns (total 9 columns):\n",
      " #   Column                    Non-Null Count  Dtype  \n",
      "---  ------                    --------------  -----  \n",
      " 0   Pregnancies               768 non-null    int64  \n",
      " 1   Glucose                   768 non-null    int64  \n",
      " 2   BloodPressure             768 non-null    int64  \n",
      " 3   SkinThickness             768 non-null    int64  \n",
      " 4   Insulin                   768 non-null    int64  \n",
      " 5   BMI                       768 non-null    float64\n",
      " 6   DiabetesPedigreeFunction  768 non-null    float64\n",
      " 7   Age                       768 non-null    int64  \n",
      " 8   Outcome                   768 non-null    int64  \n",
      "dtypes: float64(2), int64(7)\n",
      "memory usage: 54.1 KB\n"
     ]
    }
   ],
   "source": [
    "data.info()"
   ]
  },
  {
   "cell_type": "code",
   "execution_count": 6,
   "id": "d6dc768a",
   "metadata": {},
   "outputs": [
    {
     "data": {
      "text/plain": [
       "<AxesSubplot:xlabel='Outcome', ylabel='count'>"
      ]
     },
     "execution_count": 6,
     "metadata": {},
     "output_type": "execute_result"
    },
    {
     "data": {
      "image/png": "[encoded data removed]",
      "text/plain": [
       "<Figure size 432x288 with 1 Axes>"
      ]
     },
     "metadata": {},
     "output_type": "display_data"
    }
   ],
   "source": [
    "sns.countplot(x='Outcome',data=data)"
   ]
  },
  {
   "cell_type": "code",
   "execution_count": 7,
   "id": "14c4033b",
   "metadata": {},
   "outputs": [
    {
     "data": {
      "text/plain": [
       "Pregnancies                 0\n",
       "Glucose                     0\n",
       "BloodPressure               0\n",
       "SkinThickness               0\n",
       "Insulin                     0\n",
       "BMI                         0\n",
       "DiabetesPedigreeFunction    0\n",
       "Age                         0\n",
       "Outcome                     0\n",
       "dtype: int64"
      ]
     },
     "execution_count": 7,
     "metadata": {},
     "output_type": "execute_result"
    }
   ],
   "source": [
    "data.isnull().sum()"
   ]
  },
  {
   "cell_type": "code",
   "execution_count": 8,
   "id": "64373e5c",
   "metadata": {},
   "outputs": [],
   "source": [
    "#Spitting the dataset\n",
    "x=data.drop('Outcome',axis=1)\n",
    "y=data['Outcome']"
   ]
  },
  {
   "cell_type": "code",
   "execution_count": 9,
   "id": "6e6cc1b8",
   "metadata": {},
   "outputs": [],
   "source": [
    "#Train the dataset\n",
    "from sklearn.model_selection import train_test_split\n",
    "x_train,x_test,y_train,y_test=train_test_split(x,y,test_size=0.3,random_state=101)"
   ]
  },
  {
   "cell_type": "code",
   "execution_count": 10,
   "id": "f0cc9eef",
   "metadata": {},
   "outputs": [
    {
     "name": "stdout",
     "output_type": "stream",
     "text": [
      "Total number of rows:{0} 768\n",
      "Number of rows missing Pregnancies:{0} 111\n",
      "Number of rows missing Glucose:{0} 5\n",
      "Number of rows missing BloodPressure : {0} 35\n",
      "Number of rows missing SkinThickness : {0} 227\n",
      "Number of rows missing Insulin : {0} 374\n",
      "Number of rows missing BMI : {0} 11\n",
      "Number of rows missing DiabetesPedigreeFunction : {0} 0\n",
      "Number of rows missing Age : {0} 768\n"
     ]
    }
   ],
   "source": [
    "# Check columns with zero values \n",
    "print(\"Total number of rows:{0}\",format(len(data)))\n",
    "print(\"Number of rows missing Pregnancies:{0}\", format(len(data.loc[data['Pregnancies']==0]))) \n",
    "print(\"Number of rows missing Glucose:{0}\", format(len(data.loc[data['Glucose']==0])))\n",
    "print(\"Number of rows missing BloodPressure : {0}\", format(len(data.loc[data['BloodPressure']==0])))\n",
    "print(\"Number of rows missing SkinThickness : {0}\", format(len(data.loc[data['SkinThickness']==0]))) \n",
    "print(\"Number of rows missing Insulin : {0}\", format(len(data.loc[data['Insulin']==0]))) \n",
    "print(\"Number of rows missing BMI : {0}\", format(len(data.loc[data['BMI']==0])))\n",
    "print(\"Number of rows missing DiabetesPedigreeFunction : {0}\",format(len(data.loc[data['DiabetesPedigreeFunction']==0]))) \n",
    "print(\"Number of rows missing Age : {0}\", format(len(data.loc[data['Age']])))"
   ]
  },
  {
   "cell_type": "code",
   "execution_count": 11,
   "id": "ced39a57",
   "metadata": {},
   "outputs": [],
   "source": [
    "# Imputing zeros values in the dataset \n",
    "from sklearn.impute import SimpleImputer \n",
    "fill_values=SimpleImputer(missing_values=0,strategy='mean') \n",
    "x_train=fill_values.fit_transform(x_train) \n",
    "x_test=fill_values.fit_transform(x_test)"
   ]
  },
  {
   "cell_type": "code",
   "execution_count": 12,
   "id": "a3396fc9",
   "metadata": {},
   "outputs": [
    {
     "data": {
      "text/plain": [
       "DecisionTreeClassifier()"
      ]
     },
     "execution_count": 12,
     "metadata": {},
     "output_type": "execute_result"
    }
   ],
   "source": [
    "#Building the model using Decision Tree\n",
    "from sklearn.tree import DecisionTreeClassifier\n",
    "dtree=DecisionTreeClassifier()\n",
    "dtree.fit(x_train,y_train)"
   ]
  },
  {
   "cell_type": "code",
   "execution_count": 13,
   "id": "1309a141",
   "metadata": {},
   "outputs": [
    {
     "data": {
      "text/plain": [
       "array([1, 1, 0, 0, 0, 0, 1, 0, 0, 1, 0, 0, 0, 1, 0, 1, 1, 0, 1, 0, 0, 0,\n",
       "       1, 0, 0, 1, 0, 0, 0, 0, 0, 1, 0, 1, 0, 0, 0, 0, 1, 0, 0, 0, 0, 1,\n",
       "       0, 0, 0, 0, 1, 0, 0, 0, 0, 1, 0, 0, 0, 0, 1, 0, 0, 0, 1, 0, 0, 1,\n",
       "       0, 0, 0, 0, 1, 0, 1, 0, 0, 1, 0, 0, 0, 1, 0, 0, 0, 1, 1, 0, 1, 0,\n",
       "       1, 1, 1, 1, 0, 0, 0, 1, 0, 0, 1, 1, 1, 0, 0, 1, 0, 0, 0, 0, 0, 0,\n",
       "       1, 0, 0, 0, 0, 1, 0, 0, 0, 0, 1, 0, 0, 1, 1, 1, 0, 1, 0, 0, 0, 1,\n",
       "       0, 0, 0, 0, 0, 0, 0, 0, 0, 0, 1, 1, 1, 0, 1, 0, 0, 1, 0, 1, 0, 0,\n",
       "       0, 1, 0, 1, 0, 1, 0, 0, 0, 1, 0, 1, 0, 1, 1, 0, 0, 1, 0, 1, 0, 0,\n",
       "       0, 0, 1, 0, 1, 1, 1, 0, 0, 0, 0, 0, 1, 0, 1, 0, 0, 0, 0, 1, 0, 0,\n",
       "       1, 0, 0, 0, 0, 0, 0, 1, 1, 1, 0, 0, 0, 1, 0, 0, 0, 1, 0, 0, 0, 0,\n",
       "       0, 0, 1, 0, 0, 0, 1, 1, 1, 0, 1], dtype=int64)"
      ]
     },
     "execution_count": 13,
     "metadata": {},
     "output_type": "execute_result"
    }
   ],
   "source": [
    "#Predict the labels of the data values on the basis of trained model\n",
    "predictions=dtree.predict(x_test)\n",
    "predictions"
   ]
  },
  {
   "cell_type": "code",
   "execution_count": 14,
   "id": "9ddd67aa",
   "metadata": {},
   "outputs": [
    {
     "name": "stdout",
     "output_type": "stream",
     "text": [
      "Accuracy score =  0.7445887445887446\n"
     ]
    }
   ],
   "source": [
    "#Getting the accuracy score for the DecisionTree\n",
    "print(\"Accuracy score = \",format(metrics.accuracy_score(y_test,predictions)))"
   ]
  },
  {
   "cell_type": "code",
   "execution_count": 15,
   "id": "bbe286d2",
   "metadata": {},
   "outputs": [
    {
     "name": "stdout",
     "output_type": "stream",
     "text": [
      "[[123  27]\n",
      " [ 32  49]]\n",
      "              precision    recall  f1-score   support\n",
      "\n",
      "           0       0.79      0.82      0.81       150\n",
      "           1       0.64      0.60      0.62        81\n",
      "\n",
      "    accuracy                           0.74       231\n",
      "   macro avg       0.72      0.71      0.72       231\n",
      "weighted avg       0.74      0.74      0.74       231\n",
      "\n"
     ]
    }
   ],
   "source": [
    "#Getting the confusion matrix and classification report\n",
    "print(confusion_matrix(y_test,predictions))\n",
    "print(classification_report(y_test,predictions))"
   ]
  },
  {
   "cell_type": "code",
   "execution_count": 16,
   "id": "fb54e718",
   "metadata": {},
   "outputs": [
    {
     "data": {
      "text/plain": [
       "RandomForestClassifier(n_estimators=200)"
      ]
     },
     "execution_count": 16,
     "metadata": {},
     "output_type": "execute_result"
    }
   ],
   "source": [
    "#Building the model using RandomForest\n",
    "from sklearn.ensemble import RandomForestClassifier\n",
    "rfc=RandomForestClassifier(n_estimators=200)\n",
    "rfc.fit(x_train,y_train)"
   ]
  },
  {
   "cell_type": "code",
   "execution_count": 17,
   "id": "98de03de",
   "metadata": {},
   "outputs": [
    {
     "data": {
      "text/plain": [
       "array([1, 1, 0, 0, 0, 1, 1, 0, 1, 0, 0, 0, 0, 0, 0, 1, 1, 0, 1, 0, 0, 0,\n",
       "       1, 0, 0, 1, 0, 0, 0, 1, 1, 0, 0, 1, 0, 0, 0, 1, 1, 0, 0, 1, 0, 1,\n",
       "       0, 0, 1, 0, 1, 0, 0, 0, 0, 0, 0, 0, 0, 0, 1, 0, 0, 0, 1, 0, 0, 0,\n",
       "       0, 0, 0, 0, 1, 0, 0, 0, 1, 1, 0, 1, 0, 0, 1, 0, 1, 1, 1, 0, 1, 0,\n",
       "       1, 1, 1, 0, 1, 0, 0, 0, 0, 0, 1, 1, 0, 0, 0, 0, 0, 0, 0, 0, 0, 0,\n",
       "       1, 0, 0, 0, 1, 1, 0, 0, 0, 0, 0, 0, 0, 1, 1, 1, 0, 0, 0, 0, 0, 1,\n",
       "       0, 1, 0, 0, 0, 0, 0, 0, 0, 1, 1, 1, 0, 0, 1, 0, 0, 1, 0, 0, 0, 0,\n",
       "       0, 1, 0, 0, 0, 1, 0, 0, 0, 1, 0, 1, 0, 1, 1, 0, 0, 1, 0, 1, 1, 0,\n",
       "       0, 0, 1, 0, 1, 1, 1, 1, 0, 0, 0, 0, 1, 1, 1, 1, 0, 0, 0, 0, 0, 0,\n",
       "       0, 0, 0, 0, 1, 0, 0, 1, 1, 1, 1, 0, 0, 1, 0, 0, 0, 1, 0, 0, 0, 0,\n",
       "       0, 0, 1, 0, 0, 1, 0, 1, 1, 0, 1], dtype=int64)"
      ]
     },
     "execution_count": 17,
     "metadata": {},
     "output_type": "execute_result"
    }
   ],
   "source": [
    "#Predict the labels of the data values on the basis of the trained model\n",
    "predictions=rfc.predict(x_test)\n",
    "predictions"
   ]
  },
  {
   "cell_type": "code",
   "execution_count": 18,
   "id": "415fdf2f",
   "metadata": {},
   "outputs": [
    {
     "name": "stdout",
     "output_type": "stream",
     "text": [
      "Accuracy Score =  0.7748917748917749\n"
     ]
    }
   ],
   "source": [
    "#Getting the accuracy score for RandomForest \n",
    "print(\"Accuracy Score = \",format(metrics.accuracy_score(y_test,predictions)))"
   ]
  },
  {
   "cell_type": "code",
   "execution_count": 19,
   "id": "760ff80a",
   "metadata": {},
   "outputs": [
    {
     "name": "stdout",
     "output_type": "stream",
     "text": [
      "[[125  25]\n",
      " [ 27  54]]\n",
      "              precision    recall  f1-score   support\n",
      "\n",
      "           0       0.82      0.83      0.83       150\n",
      "           1       0.68      0.67      0.68        81\n",
      "\n",
      "    accuracy                           0.77       231\n",
      "   macro avg       0.75      0.75      0.75       231\n",
      "weighted avg       0.77      0.77      0.77       231\n",
      "\n"
     ]
    }
   ],
   "source": [
    "#Getting the confusion matrix and classification report\n",
    "print(confusion_matrix(y_test,predictions))\n",
    "print(classification_report(y_test,predictions))"
   ]
  },
  {
   "cell_type": "code",
   "execution_count": 20,
   "id": "83023c0b",
   "metadata": {},
   "outputs": [
    {
     "data": {
      "text/plain": [
       "array([0.0736704 , 0.25754566, 0.08067697, 0.07740157, 0.09149771,\n",
       "       0.15788287, 0.12503758, 0.13628724])"
      ]
     },
     "execution_count": 20,
     "metadata": {},
     "output_type": "execute_result"
    }
   ],
   "source": [
    "#Getting feature importances\n",
    "rfc.feature_importances_"
   ]
  },
  {
   "cell_type": "code",
   "execution_count": 21,
   "id": "5f93feeb",
   "metadata": {},
   "outputs": [
    {
     "data": {
      "text/html": [
       "<div>\n",
       "<style scoped>\n",
       "    .dataframe tbody tr th:only-of-type {\n",
       "        vertical-align: middle;\n",
       "    }\n",
       "\n",
       "    .dataframe tbody tr th {\n",
       "        vertical-align: top;\n",
       "    }\n",
       "\n",
       "    .dataframe thead th {\n",
       "        text-align: right;\n",
       "    }\n",
       "</style>\n",
       "<table border=\"1\" class=\"dataframe\">\n",
       "  <thead>\n",
       "    <tr style=\"text-align: right;\">\n",
       "      <th></th>\n",
       "      <th>Feature_name</th>\n",
       "      <th>Importances</th>\n",
       "    </tr>\n",
       "  </thead>\n",
       "  <tbody>\n",
       "    <tr>\n",
       "      <th>0</th>\n",
       "      <td>Pregnancies</td>\n",
       "      <td>0.073670</td>\n",
       "    </tr>\n",
       "    <tr>\n",
       "      <th>1</th>\n",
       "      <td>Glucose</td>\n",
       "      <td>0.257546</td>\n",
       "    </tr>\n",
       "    <tr>\n",
       "      <th>2</th>\n",
       "      <td>BloodPressure</td>\n",
       "      <td>0.080677</td>\n",
       "    </tr>\n",
       "    <tr>\n",
       "      <th>3</th>\n",
       "      <td>SkinThickness</td>\n",
       "      <td>0.077402</td>\n",
       "    </tr>\n",
       "    <tr>\n",
       "      <th>4</th>\n",
       "      <td>Insulin</td>\n",
       "      <td>0.091498</td>\n",
       "    </tr>\n",
       "    <tr>\n",
       "      <th>5</th>\n",
       "      <td>BMI</td>\n",
       "      <td>0.157883</td>\n",
       "    </tr>\n",
       "    <tr>\n",
       "      <th>6</th>\n",
       "      <td>DiabetesPedigreeFunction</td>\n",
       "      <td>0.125038</td>\n",
       "    </tr>\n",
       "    <tr>\n",
       "      <th>7</th>\n",
       "      <td>Age</td>\n",
       "      <td>0.136287</td>\n",
       "    </tr>\n",
       "  </tbody>\n",
       "</table>\n",
       "</div>"
      ],
      "text/plain": [
       "              Feature_name   Importances\n",
       "0               Pregnancies     0.073670\n",
       "1                   Glucose     0.257546\n",
       "2             BloodPressure     0.080677\n",
       "3             SkinThickness     0.077402\n",
       "4                   Insulin     0.091498\n",
       "5                       BMI     0.157883\n",
       "6  DiabetesPedigreeFunction     0.125038\n",
       "7                       Age     0.136287"
      ]
     },
     "execution_count": 21,
     "metadata": {},
     "output_type": "execute_result"
    }
   ],
   "source": [
    "#Display feature_names and their respective Importance\n",
    "df=pd.DataFrame({\"Feature_name \":x.columns,\"Importances\":rfc.feature_importances_})\n",
    "df"
   ]
  },
  {
   "cell_type": "code",
   "execution_count": 22,
   "id": "2cb76229",
   "metadata": {},
   "outputs": [
    {
     "data": {
      "text/html": [
       "<div>\n",
       "<style scoped>\n",
       "    .dataframe tbody tr th:only-of-type {\n",
       "        vertical-align: middle;\n",
       "    }\n",
       "\n",
       "    .dataframe tbody tr th {\n",
       "        vertical-align: top;\n",
       "    }\n",
       "\n",
       "    .dataframe thead th {\n",
       "        text-align: right;\n",
       "    }\n",
       "</style>\n",
       "<table border=\"1\" class=\"dataframe\">\n",
       "  <thead>\n",
       "    <tr style=\"text-align: right;\">\n",
       "      <th></th>\n",
       "      <th>Feature_name</th>\n",
       "      <th>Importances</th>\n",
       "    </tr>\n",
       "  </thead>\n",
       "  <tbody>\n",
       "    <tr>\n",
       "      <th>1</th>\n",
       "      <td>Glucose</td>\n",
       "      <td>0.257546</td>\n",
       "    </tr>\n",
       "    <tr>\n",
       "      <th>5</th>\n",
       "      <td>BMI</td>\n",
       "      <td>0.157883</td>\n",
       "    </tr>\n",
       "    <tr>\n",
       "      <th>7</th>\n",
       "      <td>Age</td>\n",
       "      <td>0.136287</td>\n",
       "    </tr>\n",
       "    <tr>\n",
       "      <th>6</th>\n",
       "      <td>DiabetesPedigreeFunction</td>\n",
       "      <td>0.125038</td>\n",
       "    </tr>\n",
       "    <tr>\n",
       "      <th>4</th>\n",
       "      <td>Insulin</td>\n",
       "      <td>0.091498</td>\n",
       "    </tr>\n",
       "    <tr>\n",
       "      <th>2</th>\n",
       "      <td>BloodPressure</td>\n",
       "      <td>0.080677</td>\n",
       "    </tr>\n",
       "    <tr>\n",
       "      <th>3</th>\n",
       "      <td>SkinThickness</td>\n",
       "      <td>0.077402</td>\n",
       "    </tr>\n",
       "    <tr>\n",
       "      <th>0</th>\n",
       "      <td>Pregnancies</td>\n",
       "      <td>0.073670</td>\n",
       "    </tr>\n",
       "  </tbody>\n",
       "</table>\n",
       "</div>"
      ],
      "text/plain": [
       "              Feature_name   Importances\n",
       "1                   Glucose     0.257546\n",
       "5                       BMI     0.157883\n",
       "7                       Age     0.136287\n",
       "6  DiabetesPedigreeFunction     0.125038\n",
       "4                   Insulin     0.091498\n",
       "2             BloodPressure     0.080677\n",
       "3             SkinThickness     0.077402\n",
       "0               Pregnancies     0.073670"
      ]
     },
     "execution_count": 22,
     "metadata": {},
     "output_type": "execute_result"
    }
   ],
   "source": [
    "df.sort_values(by =['Importances'],inplace = True,ascending = False)\n",
    "df"
   ]
  },
  {
   "cell_type": "code",
   "execution_count": 29,
   "id": "8ec3bc4c",
   "metadata": {},
   "outputs": [
    {
     "data": {
      "image/png": "[encoded data removed]",
      "text/plain": [
       "<Figure size 1080x504 with 1 Axes>"
      ]
     },
     "metadata": {},
     "output_type": "display_data"
    }
   ],
   "source": [
    "plt.figure(figsize=(15,7))\n",
    "plt.bar(df['Feature_name '],df['Importances'])\n",
    "plt.xlabel('Feature_name ')\n",
    "plt.ylabel('Importances')\n",
    "plt.title('Feature Importance Bar Graph')\n",
    "plt.show()"
   ]
  },
  {
   "cell_type": "code",
   "execution_count": 31,
   "id": "81e40a11",
   "metadata": {},
   "outputs": [
    {
     "name": "stdout",
     "output_type": "stream",
     "text": [
      "prediction Probabilities\n"
     ]
    },
    {
     "data": {
      "text/plain": [
       "array([[0.44 , 0.56 ],\n",
       "       [0.15 , 0.85 ],\n",
       "       [0.845, 0.155],\n",
       "       [0.595, 0.405],\n",
       "       [0.945, 0.055],\n",
       "       [0.365, 0.635],\n",
       "       [0.145, 0.855],\n",
       "       [0.855, 0.145],\n",
       "       [0.49 , 0.51 ],\n",
       "       [0.78 , 0.22 ],\n",
       "       [0.98 , 0.02 ],\n",
       "       [0.805, 0.195],\n",
       "       [0.65 , 0.35 ],\n",
       "       [0.565, 0.435],\n",
       "       [0.725, 0.275],\n",
       "       [0.29 , 0.71 ],\n",
       "       [0.17 , 0.83 ],\n",
       "       [0.97 , 0.03 ],\n",
       "       [0.465, 0.535],\n",
       "       [1.   , 0.   ],\n",
       "       [0.73 , 0.27 ],\n",
       "       [0.69 , 0.31 ],\n",
       "       [0.415, 0.585],\n",
       "       [0.725, 0.275],\n",
       "       [0.92 , 0.08 ],\n",
       "       [0.175, 0.825],\n",
       "       [0.95 , 0.05 ],\n",
       "       [0.575, 0.425],\n",
       "       [0.97 , 0.03 ],\n",
       "       [0.44 , 0.56 ],\n",
       "       [0.21 , 0.79 ],\n",
       "       [0.53 , 0.47 ],\n",
       "       [0.535, 0.465],\n",
       "       [0.48 , 0.52 ],\n",
       "       [0.9  , 0.1  ],\n",
       "       [0.855, 0.145],\n",
       "       [0.56 , 0.44 ],\n",
       "       [0.25 , 0.75 ],\n",
       "       [0.18 , 0.82 ],\n",
       "       [0.91 , 0.09 ],\n",
       "       [0.925, 0.075],\n",
       "       [0.41 , 0.59 ],\n",
       "       [0.86 , 0.14 ],\n",
       "       [0.44 , 0.56 ],\n",
       "       [0.935, 0.065],\n",
       "       [0.93 , 0.07 ],\n",
       "       [0.445, 0.555],\n",
       "       [0.835, 0.165],\n",
       "       [0.43 , 0.57 ],\n",
       "       [0.935, 0.065],\n",
       "       [0.92 , 0.08 ],\n",
       "       [0.72 , 0.28 ],\n",
       "       [0.715, 0.285],\n",
       "       [0.58 , 0.42 ],\n",
       "       [0.92 , 0.08 ],\n",
       "       [0.905, 0.095],\n",
       "       [0.645, 0.355],\n",
       "       [0.825, 0.175],\n",
       "       [0.18 , 0.82 ],\n",
       "       [0.905, 0.095],\n",
       "       [0.74 , 0.26 ],\n",
       "       [0.62 , 0.38 ],\n",
       "       [0.135, 0.865],\n",
       "       [0.62 , 0.38 ],\n",
       "       [0.74 , 0.26 ],\n",
       "       [0.535, 0.465],\n",
       "       [0.825, 0.175],\n",
       "       [0.885, 0.115],\n",
       "       [1.   , 0.   ],\n",
       "       [0.865, 0.135],\n",
       "       [0.345, 0.655],\n",
       "       [0.96 , 0.04 ],\n",
       "       [0.595, 0.405],\n",
       "       [0.79 , 0.21 ],\n",
       "       [0.41 , 0.59 ],\n",
       "       [0.11 , 0.89 ],\n",
       "       [0.92 , 0.08 ],\n",
       "       [0.49 , 0.51 ],\n",
       "       [0.965, 0.035],\n",
       "       [0.5  , 0.5  ],\n",
       "       [0.39 , 0.61 ],\n",
       "       [0.995, 0.005],\n",
       "       [0.485, 0.515],\n",
       "       [0.425, 0.575],\n",
       "       [0.23 , 0.77 ],\n",
       "       [0.975, 0.025],\n",
       "       [0.425, 0.575],\n",
       "       [0.755, 0.245],\n",
       "       [0.115, 0.885],\n",
       "       [0.075, 0.925],\n",
       "       [0.33 , 0.67 ],\n",
       "       [0.555, 0.445],\n",
       "       [0.455, 0.545],\n",
       "       [0.865, 0.135],\n",
       "       [0.77 , 0.23 ],\n",
       "       [0.615, 0.385],\n",
       "       [0.935, 0.065],\n",
       "       [0.91 , 0.09 ],\n",
       "       [0.085, 0.915],\n",
       "       [0.31 , 0.69 ],\n",
       "       [0.545, 0.455],\n",
       "       [0.925, 0.075],\n",
       "       [0.81 , 0.19 ],\n",
       "       [0.6  , 0.4  ],\n",
       "       [0.865, 0.135],\n",
       "       [0.975, 0.025],\n",
       "       [0.86 , 0.14 ],\n",
       "       [0.755, 0.245],\n",
       "       [0.91 , 0.09 ],\n",
       "       [0.99 , 0.01 ],\n",
       "       [0.4  , 0.6  ],\n",
       "       [0.92 , 0.08 ],\n",
       "       [0.975, 0.025],\n",
       "       [0.94 , 0.06 ],\n",
       "       [0.23 , 0.77 ],\n",
       "       [0.405, 0.595],\n",
       "       [0.785, 0.215],\n",
       "       [0.88 , 0.12 ],\n",
       "       [0.82 , 0.18 ],\n",
       "       [0.825, 0.175],\n",
       "       [0.51 , 0.49 ],\n",
       "       [0.745, 0.255],\n",
       "       [0.945, 0.055],\n",
       "       [0.38 , 0.62 ],\n",
       "       [0.44 , 0.56 ],\n",
       "       [0.39 , 0.61 ],\n",
       "       [0.74 , 0.26 ],\n",
       "       [0.785, 0.215],\n",
       "       [0.81 , 0.19 ],\n",
       "       [0.775, 0.225],\n",
       "       [0.975, 0.025],\n",
       "       [0.16 , 0.84 ],\n",
       "       [0.62 , 0.38 ],\n",
       "       [0.495, 0.505],\n",
       "       [0.79 , 0.21 ],\n",
       "       [0.675, 0.325],\n",
       "       [0.845, 0.155],\n",
       "       [0.855, 0.145],\n",
       "       [1.   , 0.   ],\n",
       "       [1.   , 0.   ],\n",
       "       [0.975, 0.025],\n",
       "       [0.39 , 0.61 ],\n",
       "       [0.395, 0.605],\n",
       "       [0.185, 0.815],\n",
       "       [0.595, 0.405],\n",
       "       [0.555, 0.445],\n",
       "       [0.47 , 0.53 ],\n",
       "       [0.995, 0.005],\n",
       "       [0.5  , 0.5  ],\n",
       "       [0.29 , 0.71 ],\n",
       "       [0.815, 0.185],\n",
       "       [0.57 , 0.43 ],\n",
       "       [0.845, 0.155],\n",
       "       [0.62 , 0.38 ],\n",
       "       [0.89 , 0.11 ],\n",
       "       [0.135, 0.865],\n",
       "       [0.63 , 0.37 ],\n",
       "       [0.515, 0.485],\n",
       "       [0.985, 0.015],\n",
       "       [0.375, 0.625],\n",
       "       [0.62 , 0.38 ],\n",
       "       [0.66 , 0.34 ],\n",
       "       [0.98 , 0.02 ],\n",
       "       [0.215, 0.785],\n",
       "       [0.67 , 0.33 ],\n",
       "       [0.305, 0.695],\n",
       "       [0.985, 0.015],\n",
       "       [0.055, 0.945],\n",
       "       [0.45 , 0.55 ],\n",
       "       [0.825, 0.175],\n",
       "       [0.57 , 0.43 ],\n",
       "       [0.25 , 0.75 ],\n",
       "       [0.895, 0.105],\n",
       "       [0.23 , 0.77 ],\n",
       "       [0.48 , 0.52 ],\n",
       "       [0.73 , 0.27 ],\n",
       "       [0.845, 0.155],\n",
       "       [0.8  , 0.2  ],\n",
       "       [0.48 , 0.52 ],\n",
       "       [0.97 , 0.03 ],\n",
       "       [0.255, 0.745],\n",
       "       [0.145, 0.855],\n",
       "       [0.495, 0.505],\n",
       "       [0.135, 0.865],\n",
       "       [0.955, 0.045],\n",
       "       [0.89 , 0.11 ],\n",
       "       [0.96 , 0.04 ],\n",
       "       [0.885, 0.115],\n",
       "       [0.16 , 0.84 ],\n",
       "       [0.45 , 0.55 ],\n",
       "       [0.33 , 0.67 ],\n",
       "       [0.495, 0.505],\n",
       "       [0.945, 0.055],\n",
       "       [0.86 , 0.14 ],\n",
       "       [0.915, 0.085],\n",
       "       [0.61 , 0.39 ],\n",
       "       [1.   , 0.   ],\n",
       "       [0.935, 0.065],\n",
       "       [0.67 , 0.33 ],\n",
       "       [0.565, 0.435],\n",
       "       [0.74 , 0.26 ],\n",
       "       [0.89 , 0.11 ],\n",
       "       [0.43 , 0.57 ],\n",
       "       [0.95 , 0.05 ],\n",
       "       [0.925, 0.075],\n",
       "       [0.335, 0.665],\n",
       "       [0.225, 0.775],\n",
       "       [0.15 , 0.85 ],\n",
       "       [0.435, 0.565],\n",
       "       [0.74 , 0.26 ],\n",
       "       [0.895, 0.105],\n",
       "       [0.38 , 0.62 ],\n",
       "       [0.895, 0.105],\n",
       "       [0.955, 0.045],\n",
       "       [0.89 , 0.11 ],\n",
       "       [0.495, 0.505],\n",
       "       [0.965, 0.035],\n",
       "       [0.905, 0.095],\n",
       "       [0.925, 0.075],\n",
       "       [0.92 , 0.08 ],\n",
       "       [0.85 , 0.15 ],\n",
       "       [0.72 , 0.28 ],\n",
       "       [0.29 , 0.71 ],\n",
       "       [0.93 , 0.07 ],\n",
       "       [0.94 , 0.06 ],\n",
       "       [0.28 , 0.72 ],\n",
       "       [0.615, 0.385],\n",
       "       [0.255, 0.745],\n",
       "       [0.35 , 0.65 ],\n",
       "       [1.   , 0.   ],\n",
       "       [0.315, 0.685]])"
      ]
     },
     "execution_count": 31,
     "metadata": {},
     "output_type": "execute_result"
    }
   ],
   "source": [
    "print('prediction Probabilities')\n",
    "rfc.predict_proba(x_test)"
   ]
  },
  {
   "cell_type": "code",
   "execution_count": null,
   "id": "bc8a301b",
   "metadata": {},
   "outputs": [],
   "source": []
  }
 ],
 "metadata": {
  "kernelspec": {
   "display_name": "Python 3 (ipykernel)",
   "language": "python",
   "name": "python3"
  },
  "language_info": {
   "codemirror_mode": {
    "name": "ipython",
    "version": 3
   },
   "file_extension": ".py",
   "mimetype": "text/x-python",
   "name": "python",
   "nbconvert_exporter": "python",
   "pygments_lexer": "ipython3",
   "version": "3.9.6"
  }
 },
 "nbformat": 4,
 "nbformat_minor": 5
}
